{
 "cells": [
  {
   "cell_type": "code",
   "execution_count": null,
   "id": "4c00d230",
   "metadata": {},
   "outputs": [],
   "source": [
    "# imports\n",
    "import yaml\n",
    "import numpy as np\n",
    "from simpar.scenario import Scenario\n",
    "from simpar.strategy import strategies_from_dictionary\n",
    "from simpar.trajectory import Trajectory\n",
    "import matplotlib.pyplot as plt"
   ]
  },
  {
   "cell_type": "code",
   "execution_count": null,
   "id": "fe459363",
   "metadata": {},
   "outputs": [],
   "source": [
    "# load scenario and strategy\n",
    "with open(\"example_scenario.yaml\", \"r\") as f:\n",
    "    yaml_file = yaml.safe_load(f)\n",
    "    scenario = Scenario.from_dictionary(yaml_file)\n",
    "    \n",
    "with open(\"example_strategy.yaml\", \"r\") as f:\n",
    "    yaml_file = yaml.safe_load(f)\n",
    "    strategy = strategies_from_dictionary(yaml_file, scenario.tests)[\"ex\"]"
   ]
  },
  {
   "cell_type": "code",
   "execution_count": null,
   "id": "6b102655",
   "metadata": {},
   "outputs": [],
   "source": [
    "# simulate and create trajectory\n",
    "sim = scenario.simulate_strategy(strategy)\n",
    "trajectory = Trajectory(scenario, strategy, sim)"
   ]
  },
  {
   "cell_type": "code",
   "execution_count": null,
   "id": "1a2ad894",
   "metadata": {},
   "outputs": [],
   "source": [
    "x = list(range(trajectory.scenario.max_T+1))\n",
    "plt.plot(x, trajectory.get_bucket(\"S\"), color=\"steelblue\")\n",
    "plt.plot(x, trajectory.get_bucket(\"I\"), color=\"orange\")\n",
    "plt.plot(x, trajectory.get_bucket(\"R\"), color=\"green\")"
   ]
  },
  {
   "cell_type": "code",
   "execution_count": null,
   "id": "15af12fa",
   "metadata": {},
   "outputs": [],
   "source": [
    "x = list(range(trajectory.scenario.max_T+1))\n",
    "plt.plot(x, trajectory.get_bucket(\"S\", meta_groups=[\"g1\"]), color=\"steelblue\")\n",
    "plt.plot(x, trajectory.get_bucket(\"I\", meta_groups=[\"g1\"]), color=\"orange\")\n",
    "plt.plot(x, trajectory.get_bucket(\"R\", meta_groups=[\"g1\"]), color=\"green\")"
   ]
  },
  {
   "cell_type": "code",
   "execution_count": null,
   "id": "94a7dc74",
   "metadata": {},
   "outputs": [],
   "source": [
    "plt.plot(x, trajectory.get_bucket(\"I\", cumulative=True))"
   ]
  },
  {
   "cell_type": "code",
   "execution_count": null,
   "id": "315f78d8",
   "metadata": {},
   "outputs": [],
   "source": [
    "plt.plot(x, trajectory.get_hospitalizations(cumulative=True))"
   ]
  },
  {
   "cell_type": "code",
   "execution_count": null,
   "id": "7b449baa",
   "metadata": {},
   "outputs": [],
   "source": [
    "plt.plot(x, trajectory.get_isolated())"
   ]
  }
 ],
 "metadata": {
  "language_info": {
   "name": "python"
  }
 },
 "nbformat": 4,
 "nbformat_minor": 5
}
